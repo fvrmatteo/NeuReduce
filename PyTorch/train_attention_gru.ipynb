{
 "metadata": {
  "language_info": {
   "codemirror_mode": {
    "name": "ipython",
    "version": 3
   },
   "file_extension": ".py",
   "mimetype": "text/x-python",
   "name": "python",
   "nbconvert_exporter": "python",
   "pygments_lexer": "ipython3",
   "version": "3.7.8-final"
  },
  "orig_nbformat": 2,
  "kernelspec": {
   "name": "python_defaultSpec_1600147954905",
   "display_name": "Python 3.7.8 64-bit ('py3': conda)"
  }
 },
 "nbformat": 4,
 "nbformat_minor": 2,
 "cells": [
  {
   "cell_type": "code",
   "execution_count": 1,
   "metadata": {},
   "outputs": [],
   "source": [
    "import torch\n",
    "import torch.nn as nn\n",
    "import torch.optim as optim\n",
    "\n",
    "import datetime\n",
    "import random\n",
    "import numpy as np\n",
    "import torch.nn.functional as F\n",
    "\n",
    "import torchtext\n",
    "from torchtext.data import Field, BucketIterator\n",
    "from torch.utils.tensorboard import SummaryWriter"
   ]
  },
  {
   "cell_type": "code",
   "execution_count": 2,
   "metadata": {},
   "outputs": [],
   "source": [
    "SEED = 1234\n",
    "\n",
    "random.seed(SEED)\n",
    "np.random.seed(SEED)\n",
    "torch.manual_seed(SEED)\n",
    "torch.cuda.manual_seed(SEED)\n",
    "torch.backends.cudnn.deterministic = True"
   ]
  },
  {
   "cell_type": "code",
   "execution_count": 3,
   "metadata": {},
   "outputs": [],
   "source": [
    "def _tokenize(text):\n",
    "    return [char for char in text]\n",
    "\n",
    "SRC = Field(\n",
    "    tokenize=_tokenize, \n",
    "    init_token='<sos>', \n",
    "    eos_token='<eos>',\n",
    "    pad_token='<pad>',\n",
    "    lower=False\n",
    ")\n",
    "TRG = Field(\n",
    "    tokenize=_tokenize,\n",
    "    init_token='<sos>',\n",
    "    eos_token='<eos>',\n",
    "    pad_token='<pad>',\n",
    "    lower=False\n",
    ")"
   ]
  },
  {
   "cell_type": "code",
   "execution_count": 4,
   "metadata": {
    "tags": []
   },
   "outputs": [
    {
     "output_type": "stream",
     "name": "stdout",
     "text": "Total 54424 samples.\nTotal 43539 train samples.\nTotal 10885 valid samples.\n\ny-(c&y)-2*(~c&y)-(~(c^y))\n-(~c|y)\n"
    }
   ],
   "source": [
    "exprs = torchtext.data.TabularDataset(\n",
    "    path='./dataset.csv',\n",
    "    format='csv',\n",
    "    fields=[\n",
    "        ('src', SRC),\n",
    "        ('trg', TRG)\n",
    "    ]\n",
    ")\n",
    "train_data, valid_data = exprs.split(split_ratio=0.8)\n",
    "\n",
    "print(f'Total {len(exprs)} samples.')\n",
    "print(f'Total {len(train_data)} train samples.')\n",
    "print(f'Total {len(valid_data)} valid samples.')\n",
    "\n",
    "print()\n",
    "print(*exprs.examples[1].src, sep='')\n",
    "print(*exprs.examples[1].trg, sep='')"
   ]
  },
  {
   "cell_type": "code",
   "execution_count": 5,
   "metadata": {
    "tags": []
   },
   "outputs": [
    {
     "output_type": "stream",
     "name": "stdout",
     "text": "Total 32 unique tokens in source vocabulary\nTotal 32 unique tokens in target vocabulary\n"
    }
   ],
   "source": [
    "# Build vocab only from the training set, which can prevent information leakage\n",
    "SRC.build_vocab(train_data)\n",
    "TRG.build_vocab(train_data)\n",
    "print(f'Total {len(SRC.vocab)} unique tokens in source vocabulary')\n",
    "print(f'Total {len(TRG.vocab)} unique tokens in target vocabulary')"
   ]
  },
  {
   "cell_type": "code",
   "execution_count": 6,
   "metadata": {},
   "outputs": [],
   "source": [
    "batch_size = 128\n",
    "device = torch.device('cuda')\n",
    "\n",
    "train_iter, valid_iter = BucketIterator.splits(\n",
    "    (train_data, valid_data),\n",
    "    batch_size=batch_size,\n",
    "    sort=False,\n",
    "    device=device\n",
    ")"
   ]
  },
  {
   "cell_type": "code",
   "execution_count": 7,
   "metadata": {},
   "outputs": [],
   "source": [
    "class Encoder(nn.Module):\n",
    "    def __init__(self, input_dim, emb_dim, enc_hid_dim, dec_hid_dim, dropout):\n",
    "        super().__init__()        \n",
    "        self.embedding = nn.Embedding(input_dim, emb_dim)     \n",
    "        self.rnn = nn.GRU(emb_dim, enc_hid_dim, bidirectional = True)        \n",
    "        self.fc = nn.Linear(enc_hid_dim * 2, dec_hid_dim)     \n",
    "        self.dropout = nn.Dropout(dropout)\n",
    "        \n",
    "    def forward(self, src):        \n",
    "        #src = [src len, batch size]        \n",
    "        embedded = self.dropout(self.embedding(src))        \n",
    "        #embedded = [src len, batch size, emb dim]        \n",
    "        outputs, hidden = self.rnn(embedded)                \n",
    "        #outputs = [src len, batch size, hid dim * num directions]\n",
    "        #hidden = [n layers * num directions, batch size, hid dim]        \n",
    "        #hidden is stacked [forward_1, backward_1, forward_2, backward_2, ...]\n",
    "        #outputs are always from the last layer        \n",
    "        #hidden [-2, :, : ] is the last of the forwards RNN \n",
    "        #hidden [-1, :, : ] is the last of the backwards RNN  \n",
    "        #initial decoder hidden is final hidden state of the forwards and backwards \n",
    "        #  encoder RNNs fed through a linear layer\n",
    "        hidden = torch.tanh(self.fc(torch.cat((hidden[-2,:,:], hidden[-1,:,:]), dim = 1)))        \n",
    "        #outputs = [src len, batch size, enc hid dim * 2]\n",
    "        #hidden = [batch size, dec hid dim]        \n",
    "        return outputs, hidden"
   ]
  },
  {
   "cell_type": "code",
   "execution_count": 8,
   "metadata": {},
   "outputs": [],
   "source": [
    "class Attention(nn.Module):\n",
    "    def __init__(self, enc_hid_dim, dec_hid_dim):\n",
    "        super().__init__()        \n",
    "        self.attn = nn.Linear((enc_hid_dim * 2) + dec_hid_dim, dec_hid_dim)\n",
    "        self.v = nn.Linear(dec_hid_dim, 1, bias = False)\n",
    "        \n",
    "    def forward(self, hidden, encoder_outputs):        \n",
    "        #hidden = [batch size, dec hid dim]\n",
    "        #encoder_outputs = [src len, batch size, enc hid dim * 2]        \n",
    "        batch_size = encoder_outputs.shape[1]\n",
    "        src_len = encoder_outputs.shape[0]        \n",
    "        #repeat decoder hidden state src_len times\n",
    "        hidden = hidden.unsqueeze(1).repeat(1, src_len, 1)    \n",
    "        encoder_outputs = encoder_outputs.permute(1, 0, 2)    \n",
    "        #hidden = [batch size, src len, dec hid dim]\n",
    "        #encoder_outputs = [batch size, src len, enc hid dim * 2]        \n",
    "        energy = torch.tanh(self.attn(torch.cat((hidden, encoder_outputs), dim = 2)))        \n",
    "        #energy = [batch size, src len, dec hid dim]\n",
    "        attention = self.v(energy).squeeze(2)        \n",
    "        #attention= [batch size, src len]        \n",
    "        return F.softmax(attention, dim=1)"
   ]
  },
  {
   "cell_type": "code",
   "execution_count": 9,
   "metadata": {},
   "outputs": [],
   "source": [
    "class Decoder(nn.Module):\n",
    "    def __init__(self, output_dim, emb_dim, enc_hid_dim, dec_hid_dim, dropout, attention):\n",
    "        super().__init__()\n",
    "        self.output_dim = output_dim\n",
    "        self.attention = attention        \n",
    "        self.embedding = nn.Embedding(output_dim, emb_dim)    \n",
    "        self.rnn = nn.GRU((enc_hid_dim * 2) + emb_dim, dec_hid_dim)        \n",
    "        self.fc_out = nn.Linear((enc_hid_dim * 2) + dec_hid_dim + emb_dim, output_dim)        \n",
    "        self.dropout = nn.Dropout(dropout)\n",
    "        \n",
    "    def forward(self, input, hidden, encoder_outputs):        \n",
    "        #input = [batch size]\n",
    "        #hidden = [batch size, dec hid dim]\n",
    "        #encoder_outputs = [src len, batch size, enc hid dim * 2]        \n",
    "        input = input.unsqueeze(0)        \n",
    "        #input = [1, batch size]        \n",
    "        embedded = self.dropout(self.embedding(input))        \n",
    "        #embedded = [1, batch size, emb dim]        \n",
    "        a = self.attention(hidden, encoder_outputs)           \n",
    "        #a = [batch size, src len]        \n",
    "        a = a.unsqueeze(1)        \n",
    "        #a = [batch size, 1, src len]        \n",
    "        encoder_outputs = encoder_outputs.permute(1, 0, 2)    \n",
    "        #encoder_outputs = [batch size, src len, enc hid dim * 2]        \n",
    "        weighted = torch.bmm(a, encoder_outputs)        \n",
    "        #weighted = [batch size, 1, enc hid dim * 2]        \n",
    "        weighted = weighted.permute(1, 0, 2)        \n",
    "        #weighted = [1, batch size, enc hid dim * 2]        \n",
    "        rnn_input = torch.cat((embedded, weighted), dim = 2)  \n",
    "        #rnn_input = [1, batch size, (enc hid dim * 2) + emb dim]            \n",
    "        output, hidden = self.rnn(rnn_input, hidden.unsqueeze(0))        \n",
    "        #output = [seq len, batch size, dec hid dim * n directions]\n",
    "        #hidden = [n layers * n directions, batch size, dec hid dim]        \n",
    "        #seq len, n layers and n directions will always be 1 in this decoder, therefore:\n",
    "        #output = [1, batch size, dec hid dim]\n",
    "        #hidden = [1, batch size, dec hid dim]\n",
    "        #this also means that output == hidden\n",
    "        assert (output == hidden).all()        \n",
    "        embedded = embedded.squeeze(0)\n",
    "        output = output.squeeze(0)\n",
    "        weighted = weighted.squeeze(0)        \n",
    "        prediction = self.fc_out(torch.cat((output, weighted, embedded), dim = 1))        \n",
    "        #prediction = [batch size, output dim]        \n",
    "        return prediction, hidden.squeeze(0)"
   ]
  },
  {
   "cell_type": "code",
   "execution_count": 10,
   "metadata": {},
   "outputs": [],
   "source": [
    "class Seq2Seq(nn.Module):\n",
    "    def __init__(self, encoder, decoder, device):\n",
    "        super().__init__()        \n",
    "        self.encoder = encoder\n",
    "        self.decoder = decoder\n",
    "        self.device = device\n",
    "\n",
    "    def forward(self, src, trg, teacher_forcing_ratio = 0.5): \n",
    "        #src = [src len, batch size]\n",
    "        #trg = [trg len, batch size]\n",
    "        #teacher_forcing_ratio is probability to use teacher forcing\n",
    "        #e.g. if teacher_forcing_ratio is 0.75 we use teacher forcing 75% of the time        \n",
    "        batch_size = src.shape[1]\n",
    "        trg_len = trg.shape[0]\n",
    "        trg_vocab_size = self.decoder.output_dim        \n",
    "        #tensor to store decoder outputs\n",
    "        outputs = torch.zeros(trg_len, batch_size, trg_vocab_size).to(self.device)        \n",
    "        #encoder_outputs is all hidden states of the input sequence, back and forwards\n",
    "        #hidden is the final forward and backward hidden states, passed through a linear layer\n",
    "        encoder_outputs, hidden = self.encoder(src)           \n",
    "        #first input to the decoder is the <sos> tokens\n",
    "        input = trg[0,:]        \n",
    "        for t in range(1, trg_len):            \n",
    "            #insert input token embedding, previous hidden state and all encoder hidden states\n",
    "            #receive output tensor (predictions) and new hidden state\n",
    "            output, hidden = self.decoder(input, hidden, encoder_outputs)            \n",
    "            #place predictions in a tensor holding predictions for each token\n",
    "            outputs[t] = output            \n",
    "            #decide if we are going to use teacher forcing or not\n",
    "            teacher_force = random.random() < teacher_forcing_ratio            \n",
    "            #get the highest predicted token from our predictions\n",
    "            top1 = output.argmax(1)             \n",
    "            #if teacher forcing, use actual next token as next input\n",
    "            #if not, use predicted token\n",
    "            input = trg[t] if teacher_force else top1\n",
    "        return outputs"
   ]
  },
  {
   "cell_type": "code",
   "execution_count": 11,
   "metadata": {},
   "outputs": [
    {
     "output_type": "execute_result",
     "data": {
      "text/plain": "Seq2Seq(\n  (encoder): Encoder(\n    (embedding): Embedding(32, 256)\n    (rnn): GRU(256, 512, bidirectional=True)\n    (fc): Linear(in_features=1024, out_features=512, bias=True)\n    (dropout): Dropout(p=0.5, inplace=False)\n  )\n  (decoder): Decoder(\n    (attention): Attention(\n      (attn): Linear(in_features=1536, out_features=512, bias=True)\n      (v): Linear(in_features=512, out_features=1, bias=False)\n    )\n    (embedding): Embedding(32, 256)\n    (rnn): GRU(1280, 512)\n    (fc_out): Linear(in_features=1792, out_features=32, bias=True)\n    (dropout): Dropout(p=0.5, inplace=False)\n  )\n)"
     },
     "metadata": {},
     "execution_count": 11
    }
   ],
   "source": [
    "INPUT_DIM = len(SRC.vocab)\n",
    "OUTPUT_DIM = len(TRG.vocab)\n",
    "ENC_EMB_DIM = 256\n",
    "DEC_EMB_DIM = 256\n",
    "ENC_HID_DIM = 512\n",
    "DEC_HID_DIM = 512\n",
    "ENC_DROPOUT = 0.5\n",
    "DEC_DROPOUT = 0.5\n",
    "\n",
    "attn = Attention(ENC_HID_DIM, DEC_HID_DIM)\n",
    "enc = Encoder(INPUT_DIM, ENC_EMB_DIM, ENC_HID_DIM, DEC_HID_DIM, ENC_DROPOUT)\n",
    "dec = Decoder(OUTPUT_DIM, DEC_EMB_DIM, ENC_HID_DIM, DEC_HID_DIM, DEC_DROPOUT, attn)\n",
    "\n",
    "model = Seq2Seq(enc, dec, device).to(device)\n",
    "\n",
    "def init_weights(m):\n",
    "    for name, param in m.named_parameters():\n",
    "        if 'weight' in name:\n",
    "            nn.init.normal_(param.data, mean=0, std=0.01)\n",
    "        else:\n",
    "            nn.init.constant_(param.data, 0)\n",
    "            \n",
    "model.apply(init_weights)"
   ]
  },
  {
   "cell_type": "code",
   "execution_count": 12,
   "metadata": {
    "tags": []
   },
   "outputs": [
    {
     "output_type": "stream",
     "name": "stdout",
     "text": "The model has 6,507,040 trainable parameters\n"
    }
   ],
   "source": [
    "def count_parameters(model):\n",
    "    return sum(p.numel() for p in model.parameters() if p.requires_grad)\n",
    "\n",
    "print(f'The model has {count_parameters(model):,} trainable parameters')"
   ]
  },
  {
   "cell_type": "code",
   "execution_count": 13,
   "metadata": {},
   "outputs": [],
   "source": [
    "optimizer = optim.Adam(model.parameters())\n",
    "scheduler = optim.lr_scheduler.ReduceLROnPlateau(optimizer)\n",
    "\n",
    "TRG_PAD_IDX = TRG.vocab.stoi[TRG.pad_token]\n",
    "criterion = nn.CrossEntropyLoss(ignore_index = TRG_PAD_IDX)"
   ]
  },
  {
   "cell_type": "code",
   "execution_count": 14,
   "metadata": {},
   "outputs": [],
   "source": [
    "def train(model, iterator, optimizer, criterion, clip): \n",
    "    model.train()\n",
    "    epoch_loss = 0\n",
    "\n",
    "    pbar = tqdm(iterator, unit='batchs', ncols=100)\n",
    "    # for i, batch in enumerate(tqdm(iterator, unit='batchs')):  \n",
    "    for i, batch in enumerate(pbar):      \n",
    "        src = batch.src\n",
    "        trg = batch.trg        \n",
    "        optimizer.zero_grad()        \n",
    "        output = model(src, trg)        \n",
    "        #trg = [trg len, batch size]\n",
    "        #output = [trg len, batch size, output dim]        \n",
    "        output_dim = output.shape[-1]        \n",
    "        output = output[1:].view(-1, output_dim)\n",
    "        trg = trg[1:].view(-1)        \n",
    "        #trg = [(trg len - 1) * batch size]\n",
    "        #output = [(trg len - 1) * batch size, output dim]    \n",
    "        loss = criterion(output, trg)        \n",
    "        loss.backward()        \n",
    "        torch.nn.utils.clip_grad_norm_(model.parameters(), clip)        \n",
    "        optimizer.step()        \n",
    "        epoch_loss += loss.item()   \n",
    "             \n",
    "    return epoch_loss / len(iterator)"
   ]
  },
  {
   "cell_type": "code",
   "execution_count": 15,
   "metadata": {},
   "outputs": [],
   "source": [
    "def evaluate(model, iterator, criterion):    \n",
    "    model.eval()    \n",
    "    epoch_loss = 0  \n",
    "\n",
    "    with torch.no_grad():    \n",
    "        for i, batch in enumerate(iterator):\n",
    "            src = batch.src\n",
    "            trg = batch.trg\n",
    "            output = model(src, trg, 0) #turn off teacher forcing\n",
    "            #trg = [trg len, batch size]\n",
    "            #output = [trg len, batch size, output dim]\n",
    "            output_dim = output.shape[-1]            \n",
    "            output = output[1:].view(-1, output_dim)\n",
    "            trg = trg[1:].view(-1)\n",
    "            #trg = [(trg len - 1) * batch size]\n",
    "            #output = [(trg len - 1) * batch size, output dim]\n",
    "            loss = criterion(output, trg)            \n",
    "            epoch_loss += loss.item()  \n",
    "                  \n",
    "    return epoch_loss / len(iterator)"
   ]
  },
  {
   "cell_type": "code",
   "execution_count": 16,
   "metadata": {
    "tags": []
   },
   "outputs": [
    {
     "output_type": "stream",
     "name": "stderr",
     "text": "100%|█████████████████████████████████████████████████████████| 341/341 [01:15<00:00,  4.53batchs/s]\n  0%|                                                                   | 0/341 [00:00<?, ?batchs/s]Epoch: 1, Train Loss: 1.613, Val. Loss: 2.579\n100%|█████████████████████████████████████████████████████████| 341/341 [01:16<00:00,  4.48batchs/s]\n  0%|                                                                   | 0/341 [00:00<?, ?batchs/s]Epoch: 2, Train Loss: 1.050, Val. Loss: 2.050\n100%|█████████████████████████████████████████████████████████| 341/341 [01:17<00:00,  4.43batchs/s]\n  0%|                                                                   | 0/341 [00:00<?, ?batchs/s]Epoch: 3, Train Loss: 0.694, Val. Loss: 1.806\n100%|█████████████████████████████████████████████████████████| 341/341 [01:15<00:00,  4.53batchs/s]\n  0%|                                                                   | 0/341 [00:00<?, ?batchs/s]Epoch: 4, Train Loss: 0.475, Val. Loss: 1.440\n100%|█████████████████████████████████████████████████████████| 341/341 [01:13<00:00,  4.66batchs/s]\n  0%|                                                                   | 0/341 [00:00<?, ?batchs/s]Epoch: 5, Train Loss: 0.313, Val. Loss: 0.966\n100%|█████████████████████████████████████████████████████████| 341/341 [01:16<00:00,  4.48batchs/s]\n  0%|                                                                   | 0/341 [00:00<?, ?batchs/s]Epoch: 6, Train Loss: 0.214, Val. Loss: 0.827\n100%|█████████████████████████████████████████████████████████| 341/341 [01:17<00:00,  4.42batchs/s]\n  0%|                                                                   | 0/341 [00:00<?, ?batchs/s]Epoch: 7, Train Loss: 0.147, Val. Loss: 0.606\n100%|█████████████████████████████████████████████████████████| 341/341 [01:16<00:00,  4.43batchs/s]\n  0%|                                                                   | 0/341 [00:00<?, ?batchs/s]Epoch: 8, Train Loss: 0.097, Val. Loss: 0.508\n100%|█████████████████████████████████████████████████████████| 341/341 [01:16<00:00,  4.43batchs/s]\n  0%|                                                                   | 0/341 [00:00<?, ?batchs/s]Epoch: 9, Train Loss: 0.081, Val. Loss: 0.429\n100%|█████████████████████████████████████████████████████████| 341/341 [01:15<00:00,  4.53batchs/s]\n  0%|                                                                   | 0/341 [00:00<?, ?batchs/s]Epoch: 10, Train Loss: 0.064, Val. Loss: 0.406\n100%|█████████████████████████████████████████████████████████| 341/341 [01:14<00:00,  4.57batchs/s]\n  0%|                                                                   | 0/341 [00:00<?, ?batchs/s]Epoch: 11, Train Loss: 0.057, Val. Loss: 0.405\n100%|█████████████████████████████████████████████████████████| 341/341 [01:16<00:00,  4.45batchs/s]\n  0%|                                                                   | 0/341 [00:00<?, ?batchs/s]Epoch: 12, Train Loss: 0.052, Val. Loss: 0.422\n100%|█████████████████████████████████████████████████████████| 341/341 [01:16<00:00,  4.45batchs/s]\n  0%|                                                                   | 0/341 [00:00<?, ?batchs/s]Epoch: 13, Train Loss: 0.046, Val. Loss: 0.342\n100%|█████████████████████████████████████████████████████████| 341/341 [01:16<00:00,  4.48batchs/s]\n  0%|                                                                   | 0/341 [00:00<?, ?batchs/s]Epoch: 14, Train Loss: 0.042, Val. Loss: 0.328\n100%|█████████████████████████████████████████████████████████| 341/341 [01:16<00:00,  4.48batchs/s]\n  0%|                                                                   | 0/341 [00:00<?, ?batchs/s]Epoch: 15, Train Loss: 0.036, Val. Loss: 0.334\n100%|█████████████████████████████████████████████████████████| 341/341 [01:16<00:00,  4.45batchs/s]\n  0%|                                                                   | 0/341 [00:00<?, ?batchs/s]Epoch: 16, Train Loss: 0.034, Val. Loss: 0.344\n100%|█████████████████████████████████████████████████████████| 341/341 [01:16<00:00,  4.43batchs/s]\n  0%|                                                                   | 0/341 [00:00<?, ?batchs/s]Epoch: 17, Train Loss: 0.035, Val. Loss: 0.413\n100%|█████████████████████████████████████████████████████████| 341/341 [01:17<00:00,  4.43batchs/s]\n  0%|                                                                   | 0/341 [00:00<?, ?batchs/s]Epoch: 18, Train Loss: 0.038, Val. Loss: 0.372\n100%|█████████████████████████████████████████████████████████| 341/341 [01:17<00:00,  4.41batchs/s]\n  0%|                                                                   | 0/341 [00:00<?, ?batchs/s]Epoch: 19, Train Loss: 0.035, Val. Loss: 0.367\n100%|█████████████████████████████████████████████████████████| 341/341 [01:17<00:00,  4.41batchs/s]\nEpoch: 20, Train Loss: 0.032, Val. Loss: 0.333\n"
    }
   ],
   "source": [
    "today = datetime.date.today()\n",
    "from tqdm import tqdm\n",
    "\n",
    "N_EPOCHS = 20\n",
    "CLIP = 1\n",
    "\n",
    "writer = SummaryWriter()\n",
    "\n",
    "best_valid_loss = float('inf')\n",
    "for epoch in range(N_EPOCHS):   \n",
    "    train_loss = train(model, train_iter, optimizer, criterion, CLIP)\n",
    "    valid_loss = evaluate(model, valid_iter, criterion)\n",
    "    writer.add_scalar('train_loss', train_loss, epoch)\n",
    "    writer.add_scalar('valid_loss', valid_loss, epoch)\n",
    "    scheduler.step(valid_loss)\n",
    "\n",
    "    if valid_loss < best_valid_loss:\n",
    "        best_valid_loss = valid_loss\n",
    "        torch.save(model.state_dict(), f'attention-gru-{today}.pt')\n",
    "    \n",
    "    print(f'Epoch: {epoch + 1}, Train Loss: {train_loss:.3f}, Val. Loss: {valid_loss:.3f}\\n')\n",
    "writer.close()"
   ]
  },
  {
   "cell_type": "code",
   "execution_count": 17,
   "metadata": {},
   "outputs": [],
   "source": [
    "def translate(sentence, src_field, trg_field, model, device, max_len = 50):\n",
    "    model.eval()  \n",
    "    tokens = [token.lower() for token in sentence]\n",
    "    tokens = [src_field.init_token] + tokens + [src_field.eos_token]\n",
    "    src_indexes = [src_field.vocab.stoi[token] for token in tokens]\n",
    "    src_tensor = torch.LongTensor(src_indexes).unsqueeze(1).to(device)\n",
    "\n",
    "    with torch.no_grad():\n",
    "        encoder_outputs, hidden = model.encoder(src_tensor)\n",
    "    \n",
    "    trg_indexes = [trg_field.vocab.stoi[trg_field.init_token]]\n",
    "    for i in range(max_len):\n",
    "        trg_tensor = torch.LongTensor([trg_indexes[-1]]).to(device)\n",
    "        with torch.no_grad():\n",
    "            output, hidden = model.decoder(trg_tensor, hidden, encoder_outputs)\n",
    "            \n",
    "        pred_token = output.argmax(1).item()\n",
    "        trg_indexes.append(pred_token)\n",
    "        if pred_token == trg_field.vocab.stoi[trg_field.eos_token]:\n",
    "            break\n",
    "    \n",
    "    trg_tokens = [trg_field.vocab.itos[i] for i in trg_indexes]\n",
    "    return trg_tokens[1:]"
   ]
  },
  {
   "cell_type": "code",
   "execution_count": 18,
   "metadata": {
    "tags": []
   },
   "outputs": [
    {
     "output_type": "stream",
     "name": "stdout",
     "text": "src \t\t= 2*(x&(y|z))+(~x|~z)-2*(y^z)+(~y^z)-2*(y^~z)-(x&y)\ntrg \t\t= -(~x&(y^z))\npredicted trg \t= -(~x&(y^z))\n"
    }
   ],
   "source": [
    "idx = 0\n",
    "\n",
    "src = vars(valid_data.examples[idx])['src']\n",
    "trg = vars(valid_data.examples[idx])['trg']\n",
    "\n",
    "translation = translate(src, SRC, TRG, model, device)\n",
    "translation = ''.join(translation[:-1])\n",
    "\n",
    "src = ''.join(src)\n",
    "trg = ''.join(trg)\n",
    "\n",
    "print(f'src \\t\\t= {src}')\n",
    "print(f'trg \\t\\t= {trg}')\n",
    "print(f'predicted trg \\t= {translation}')"
   ]
  },
  {
   "cell_type": "code",
   "execution_count": 19,
   "metadata": {
    "tags": []
   },
   "outputs": [
    {
     "output_type": "stream",
     "name": "stdout",
     "text": "Accuracy rate on train set: 0.919\nAccuracy rate on valid set: 0.862\n"
    }
   ],
   "source": [
    "def count_acc(dataset, SRC, TRG, model, device):\n",
    "    count = 0\n",
    "\n",
    "    for idx in tqdm(range(len(dataset)), ncols=100):\n",
    "        src = vars(dataset.examples[idx])['src']\n",
    "        trg = vars(dataset.examples[idx])['trg']\n",
    "\n",
    "        translation = translate(src, SRC, TRG, model, device)\n",
    "        \n",
    "        if translation[:-1] == trg:\n",
    "            count += 1\n",
    "    return count\n",
    "\n",
    "\n",
    "train_acc_count = count_acc(train_data, SRC, TRG, model, device)\n",
    "print(f'Accuracy rate on train set: {train_acc_count/len(train_data):.3f}')\n",
    "\n",
    "valid_acc_count = count_acc(valid_data, SRC, TRG, model, device)\n",
    "print(f'Accuracy rate on valid set: {valid_acc_count/len(valid_data):.3f}')"
   ]
  },
  {
   "cell_type": "code",
   "execution_count": null,
   "metadata": {},
   "outputs": [],
   "source": []
  }
 ]
}